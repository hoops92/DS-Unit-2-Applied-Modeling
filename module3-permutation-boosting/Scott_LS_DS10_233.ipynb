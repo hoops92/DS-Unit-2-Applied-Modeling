{
  "nbformat": 4,
  "nbformat_minor": 0,
  "metadata": {
    "colab": {
      "name": "Scott_LS_DS10_233.ipynb",
      "provenance": [],
      "collapsed_sections": [],
      "include_colab_link": true
    },
    "kernelspec": {
      "display_name": "Python 3",
      "language": "python",
      "name": "python3"
    },
    "language_info": {
      "codemirror_mode": {
        "name": "ipython",
        "version": 3
      },
      "file_extension": ".py",
      "mimetype": "text/x-python",
      "name": "python",
      "nbconvert_exporter": "python",
      "pygments_lexer": "ipython3",
      "version": "3.7.3"
    }
  },
  "cells": [
    {
      "cell_type": "markdown",
      "metadata": {
        "id": "view-in-github",
        "colab_type": "text"
      },
      "source": [
        "<a href=\"https://colab.research.google.com/github/hoops92/DS-Unit-2-Applied-Modeling/blob/master/module3-permutation-boosting/Scott_LS_DS10_233.ipynb\" target=\"_parent\"><img src=\"https://colab.research.google.com/assets/colab-badge.svg\" alt=\"Open In Colab\"/></a>"
      ]
    },
    {
      "cell_type": "markdown",
      "metadata": {
        "colab_type": "text",
        "id": "nCc3XZEyG3XV"
      },
      "source": [
        "Lambda School Data Science\n",
        "\n",
        "*Unit 2, Sprint 3, Module 3*\n",
        "\n",
        "---\n",
        "\n",
        "\n",
        "# Permutation & Boosting\n",
        "\n",
        "You will use your portfolio project dataset for all assignments this sprint.\n",
        "\n",
        "## Assignment\n",
        "\n",
        "Complete these tasks for your project, and document your work.\n",
        "\n",
        "- [ ] If you haven't completed assignment #1, please do so first.\n",
        "- [ ] Continue to clean and explore your data. Make exploratory visualizations.\n",
        "- [ ] Fit a model. Does it beat your baseline? \n",
        "- [ ] Try xgboost.\n",
        "- [ ] Get your model's permutation importances.\n",
        "\n",
        "You should try to complete an initial model today, because the rest of the week, we're making model interpretation visualizations.\n",
        "\n",
        "But, if you aren't ready to try xgboost and permutation importances with your dataset today, that's okay. You can practice with another dataset instead. You may choose any dataset you've worked with previously.\n",
        "\n",
        "The data subdirectory includes the Titanic dataset for classification and the NYC apartments dataset for regression. You may want to choose one of these datasets, because example solutions will be available for each.\n",
        "\n",
        "\n",
        "## Reading\n",
        "\n",
        "Top recommendations in _**bold italic:**_\n",
        "\n",
        "#### Permutation Importances\n",
        "- _**[Kaggle / Dan Becker: Machine Learning Explainability](https://www.kaggle.com/dansbecker/permutation-importance)**_\n",
        "- [Christoph Molnar: Interpretable Machine Learning](https://christophm.github.io/interpretable-ml-book/feature-importance.html)\n",
        "\n",
        "#### (Default) Feature Importances\n",
        "  - [Ando Saabas: Selecting good features, Part 3, Random Forests](https://blog.datadive.net/selecting-good-features-part-iii-random-forests/)\n",
        "  - [Terence Parr, et al: Beware Default Random Forest Importances](https://explained.ai/rf-importance/index.html)\n",
        "\n",
        "#### Gradient Boosting\n",
        "  - [A Gentle Introduction to the Gradient Boosting Algorithm for Machine Learning](https://machinelearningmastery.com/gentle-introduction-gradient-boosting-algorithm-machine-learning/)\n",
        "  - _**[A Kaggle Master Explains Gradient Boosting](http://blog.kaggle.com/2017/01/23/a-kaggle-master-explains-gradient-boosting/)**_\n",
        "  - [_An Introduction to Statistical Learning_](http://www-bcf.usc.edu/~gareth/ISL/ISLR%20Seventh%20Printing.pdf) Chapter 8\n",
        "  - [Gradient Boosting Explained](http://arogozhnikov.github.io/2016/06/24/gradient_boosting_explained.html)\n",
        "  - _**[Boosting](https://www.youtube.com/watch?v=GM3CDQfQ4sw) (2.5 minute video)**_"
      ]
    },
    {
      "cell_type": "code",
      "metadata": {
        "id": "txS3vQkTRsjC",
        "colab_type": "code",
        "colab": {}
      },
      "source": [
        "%%capture\n",
        "import sys\n",
        "\n",
        "!pip install category_encoders==2.*\n",
        "!pip install pandas-profiling==2.*"
      ],
      "execution_count": 0,
      "outputs": []
    },
    {
      "cell_type": "code",
      "metadata": {
        "id": "3qPIdscE1w3W",
        "colab_type": "code",
        "colab": {}
      },
      "source": [
        "import pandas as pd\n",
        "df = pd.read_csv('https://raw.githubusercontent.com/Okocha76/Okocha76.github.io/master/euro_data.csv', sep=';', engine='python', encoding = \"ISO-8859-1\")"
      ],
      "execution_count": 0,
      "outputs": []
    },
    {
      "cell_type": "code",
      "metadata": {
        "id": "m9vV6W2Y-umB",
        "colab_type": "code",
        "outputId": "6d96838d-8b72-4571-8962-04cf346ca597",
        "colab": {
          "base_uri": "https://localhost:8080/",
          "height": 249
        }
      },
      "source": [
        "print(df.shape)\n",
        "df.head()"
      ],
      "execution_count": 0,
      "outputs": [
        {
          "output_type": "stream",
          "text": [
            "(8010, 41)\n"
          ],
          "name": "stdout"
        },
        {
          "output_type": "execute_result",
          "data": {
            "text/html": [
              "<div>\n",
              "<style scoped>\n",
              "    .dataframe tbody tr th:only-of-type {\n",
              "        vertical-align: middle;\n",
              "    }\n",
              "\n",
              "    .dataframe tbody tr th {\n",
              "        vertical-align: top;\n",
              "    }\n",
              "\n",
              "    .dataframe thead th {\n",
              "        text-align: right;\n",
              "    }\n",
              "</style>\n",
              "<table border=\"1\" class=\"dataframe\">\n",
              "  <thead>\n",
              "    <tr style=\"text-align: right;\">\n",
              "      <th></th>\n",
              "      <th>TIME</th>\n",
              "      <th>GEO</th>\n",
              "      <th>GEO_LABEL</th>\n",
              "      <th>AGEMOTH</th>\n",
              "      <th>MEDAGEMOTH</th>\n",
              "      <th>TOTFERRT</th>\n",
              "      <th>JAN</th>\n",
              "      <th>CNMIGRAT</th>\n",
              "      <th>CNMIGRATRT</th>\n",
              "      <th>DEATH</th>\n",
              "      <th>GBIRTHRT</th>\n",
              "      <th>GDEATHRT</th>\n",
              "      <th>GROW</th>\n",
              "      <th>GROWRT</th>\n",
              "      <th>LBIRTH</th>\n",
              "      <th>NATGROW</th>\n",
              "      <th>NATGROWRT</th>\n",
              "      <th>RT</th>\n",
              "      <th>PER_KM2</th>\n",
              "      <th>EUR_HAB_2GDP</th>\n",
              "      <th>EUR_HAB_EU</th>\n",
              "      <th>EUR_HAB_EU27_2019</th>\n",
              "      <th>MIO_EUR</th>\n",
              "      <th>MIO_NAC</th>\n",
              "      <th>MIO_PPS</th>\n",
              "      <th>MIO_PPS_EU27_2019</th>\n",
              "      <th>PPS_EU27_2019_HAB</th>\n",
              "      <th>PPS_HAB</th>\n",
              "      <th>PPS_HAB_EU</th>\n",
              "      <th>PPS_HAB_EU27_2019</th>\n",
              "      <th>EMP</th>\n",
              "      <th>SAL</th>\n",
              "      <th>EUR_HAB_2HHINC</th>\n",
              "      <th>ED0-2_25_64</th>\n",
              "      <th>ED3_4_25_64</th>\n",
              "      <th>ED3-8_25_64</th>\n",
              "      <th>ED5-8_25_64</th>\n",
              "      <th>ED0-2_30_34</th>\n",
              "      <th>ED3_4_30_34</th>\n",
              "      <th>ED3-8_30_34</th>\n",
              "      <th>ED5-8_30_34</th>\n",
              "    </tr>\n",
              "  </thead>\n",
              "  <tbody>\n",
              "    <tr>\n",
              "      <th>0</th>\n",
              "      <td>2000</td>\n",
              "      <td>AT</td>\n",
              "      <td>Austria</td>\n",
              "      <td>28.7</td>\n",
              "      <td>29.4</td>\n",
              "      <td>1.35</td>\n",
              "      <td>8002186</td>\n",
              "      <td>17272</td>\n",
              "      <td>2.2</td>\n",
              "      <td>76780</td>\n",
              "      <td>9.8</td>\n",
              "      <td>9.6</td>\n",
              "      <td>18760</td>\n",
              "      <td>2.3</td>\n",
              "      <td>78268</td>\n",
              "      <td>1488</td>\n",
              "      <td>0.2</td>\n",
              "      <td>4.8</td>\n",
              "      <td>97.2</td>\n",
              "      <td>26700</td>\n",
              "      <td>134</td>\n",
              "      <td>145</td>\n",
              "      <td>213606.48</td>\n",
              "      <td>213606.48</td>\n",
              "      <td>206251.54</td>\n",
              "      <td>195513.50</td>\n",
              "      <td>24400</td>\n",
              "      <td>25700</td>\n",
              "      <td>130</td>\n",
              "      <td>133</td>\n",
              "      <td>3755.0</td>\n",
              "      <td>3243.7</td>\n",
              "      <td>18000</td>\n",
              "      <td>23.8</td>\n",
              "      <td>62.1</td>\n",
              "      <td>76.2</td>\n",
              "      <td>14.1</td>\n",
              "      <td>16.7</td>\n",
              "      <td>67.4</td>\n",
              "      <td>83.3</td>\n",
              "      <td>15.9</td>\n",
              "    </tr>\n",
              "    <tr>\n",
              "      <th>1</th>\n",
              "      <td>2001</td>\n",
              "      <td>AT</td>\n",
              "      <td>Austria</td>\n",
              "      <td>28.9</td>\n",
              "      <td>29.6</td>\n",
              "      <td>1.31</td>\n",
              "      <td>8020946</td>\n",
              "      <td>42003</td>\n",
              "      <td>5.2</td>\n",
              "      <td>74767</td>\n",
              "      <td>9.4</td>\n",
              "      <td>9.3</td>\n",
              "      <td>42694</td>\n",
              "      <td>5.3</td>\n",
              "      <td>75458</td>\n",
              "      <td>691</td>\n",
              "      <td>0.1</td>\n",
              "      <td>4.8</td>\n",
              "      <td>97.5</td>\n",
              "      <td>27400</td>\n",
              "      <td>133</td>\n",
              "      <td>143</td>\n",
              "      <td>220525.08</td>\n",
              "      <td>220525.08</td>\n",
              "      <td>207461.48</td>\n",
              "      <td>197764.57</td>\n",
              "      <td>24600</td>\n",
              "      <td>25800</td>\n",
              "      <td>125</td>\n",
              "      <td>128</td>\n",
              "      <td>3782.0</td>\n",
              "      <td>3265.1</td>\n",
              "      <td>18300</td>\n",
              "      <td>22.5</td>\n",
              "      <td>62.6</td>\n",
              "      <td>77.5</td>\n",
              "      <td>14.8</td>\n",
              "      <td>16.0</td>\n",
              "      <td>67.9</td>\n",
              "      <td>84.0</td>\n",
              "      <td>16.1</td>\n",
              "    </tr>\n",
              "    <tr>\n",
              "      <th>2</th>\n",
              "      <td>2002</td>\n",
              "      <td>AT</td>\n",
              "      <td>Austria</td>\n",
              "      <td>29.1</td>\n",
              "      <td>29.8</td>\n",
              "      <td>1.38</td>\n",
              "      <td>8063640</td>\n",
              "      <td>34365</td>\n",
              "      <td>4.3</td>\n",
              "      <td>76131</td>\n",
              "      <td>9.7</td>\n",
              "      <td>9.4</td>\n",
              "      <td>36633</td>\n",
              "      <td>4.5</td>\n",
              "      <td>78399</td>\n",
              "      <td>2268</td>\n",
              "      <td>0.3</td>\n",
              "      <td>4.1</td>\n",
              "      <td>98.0</td>\n",
              "      <td>28100</td>\n",
              "      <td>132</td>\n",
              "      <td>141</td>\n",
              "      <td>226735.22</td>\n",
              "      <td>226735.22</td>\n",
              "      <td>216432.92</td>\n",
              "      <td>206562.16</td>\n",
              "      <td>25600</td>\n",
              "      <td>26800</td>\n",
              "      <td>126</td>\n",
              "      <td>129</td>\n",
              "      <td>3778.4</td>\n",
              "      <td>3258.1</td>\n",
              "      <td>18500</td>\n",
              "      <td>21.7</td>\n",
              "      <td>62.7</td>\n",
              "      <td>78.3</td>\n",
              "      <td>15.7</td>\n",
              "      <td>15.9</td>\n",
              "      <td>66.9</td>\n",
              "      <td>84.1</td>\n",
              "      <td>17.2</td>\n",
              "    </tr>\n",
              "    <tr>\n",
              "      <th>3</th>\n",
              "      <td>2003</td>\n",
              "      <td>AT</td>\n",
              "      <td>Austria</td>\n",
              "      <td>29.2</td>\n",
              "      <td>29.9</td>\n",
              "      <td>1.36</td>\n",
              "      <td>8100273</td>\n",
              "      <td>42565</td>\n",
              "      <td>5.2</td>\n",
              "      <td>77209</td>\n",
              "      <td>9.5</td>\n",
              "      <td>9.5</td>\n",
              "      <td>42300</td>\n",
              "      <td>5.2</td>\n",
              "      <td>76944</td>\n",
              "      <td>-265</td>\n",
              "      <td>0.0</td>\n",
              "      <td>4.5</td>\n",
              "      <td>98.5</td>\n",
              "      <td>28600</td>\n",
              "      <td>132</td>\n",
              "      <td>140</td>\n",
              "      <td>231862.46</td>\n",
              "      <td>231862.46</td>\n",
              "      <td>221219.87</td>\n",
              "      <td>214271.17</td>\n",
              "      <td>26400</td>\n",
              "      <td>27200</td>\n",
              "      <td>126</td>\n",
              "      <td>130</td>\n",
              "      <td>3803.0</td>\n",
              "      <td>3275.3</td>\n",
              "      <td>18900</td>\n",
              "      <td>21.0</td>\n",
              "      <td>63.3</td>\n",
              "      <td>79.0</td>\n",
              "      <td>15.7</td>\n",
              "      <td>14.3</td>\n",
              "      <td>68.1</td>\n",
              "      <td>85.7</td>\n",
              "      <td>17.6</td>\n",
              "    </tr>\n",
              "    <tr>\n",
              "      <th>4</th>\n",
              "      <td>2004</td>\n",
              "      <td>AT</td>\n",
              "      <td>Austria</td>\n",
              "      <td>28.8</td>\n",
              "      <td>29.5</td>\n",
              "      <td>1.42</td>\n",
              "      <td>8142573</td>\n",
              "      <td>54110</td>\n",
              "      <td>6.6</td>\n",
              "      <td>74292</td>\n",
              "      <td>9.7</td>\n",
              "      <td>9.1</td>\n",
              "      <td>58786</td>\n",
              "      <td>7.2</td>\n",
              "      <td>78968</td>\n",
              "      <td>4676</td>\n",
              "      <td>0.6</td>\n",
              "      <td>4.5</td>\n",
              "      <td>99.1</td>\n",
              "      <td>29700</td>\n",
              "      <td>132</td>\n",
              "      <td>140</td>\n",
              "      <td>242348.26</td>\n",
              "      <td>242348.26</td>\n",
              "      <td>233343.6</td>\n",
              "      <td>225461.43</td>\n",
              "      <td>27600</td>\n",
              "      <td>28600</td>\n",
              "      <td>127</td>\n",
              "      <td>130</td>\n",
              "      <td>3826.8</td>\n",
              "      <td>3290.1</td>\n",
              "      <td>19700</td>\n",
              "      <td>20.2</td>\n",
              "      <td>61.8</td>\n",
              "      <td>79.8</td>\n",
              "      <td>18.0</td>\n",
              "      <td>13.5</td>\n",
              "      <td>65.6</td>\n",
              "      <td>86.5</td>\n",
              "      <td>20.9</td>\n",
              "    </tr>\n",
              "  </tbody>\n",
              "</table>\n",
              "</div>"
            ],
            "text/plain": [
              "   TIME GEO GEO_LABEL  ...  ED3_4_30_34  ED3-8_30_34  ED5-8_30_34\n",
              "0  2000  AT   Austria  ...         67.4         83.3         15.9\n",
              "1  2001  AT   Austria  ...         67.9         84.0         16.1\n",
              "2  2002  AT   Austria  ...         66.9         84.1         17.2\n",
              "3  2003  AT   Austria  ...         68.1         85.7         17.6\n",
              "4  2004  AT   Austria  ...         65.6         86.5         20.9\n",
              "\n",
              "[5 rows x 41 columns]"
            ]
          },
          "metadata": {
            "tags": []
          },
          "execution_count": 56
        }
      ]
    },
    {
      "cell_type": "code",
      "metadata": {
        "id": "_uaxerNAlcVP",
        "colab_type": "code",
        "outputId": "4398ce9c-ee76-440a-d348-d6579cf3b9ab",
        "colab": {
          "base_uri": "https://localhost:8080/",
          "height": 34
        }
      },
      "source": [
        "train = df[df['TIME'] <= 2011]\n",
        "val = df[(df['TIME'] > 2011) & (df['TIME'] < 2015)]\n",
        "test = df[df['TIME'] >= 2015]\n",
        "\n",
        "train.shape, val.shape, test.shape"
      ],
      "execution_count": 0,
      "outputs": [
        {
          "output_type": "execute_result",
          "data": {
            "text/plain": [
              "((5340, 41), (1335, 41), (1335, 41))"
            ]
          },
          "metadata": {
            "tags": []
          },
          "execution_count": 64
        }
      ]
    },
    {
      "cell_type": "code",
      "metadata": {
        "id": "XYtAKbLUCap0",
        "colab_type": "code",
        "colab": {}
      },
      "source": [
        "import numpy as np\n",
        "\n",
        "def wrangle(X):\n",
        "    \"\"\"Wrangle train, validate, and test sets in the same way\"\"\"\n",
        "    \n",
        "    # Prevent SettingWithCopyWarning\n",
        "    X = X.copy()\n",
        "\n",
        "    # Feature selection is not final. Just a quick & dirty approach for now.\n",
        "\n",
        "    X = X.drop(\n",
        "        ['CNMIGRAT','DEATH','GROW','GROWRT','LBIRTH','NATGROW','NATGROWRT',\n",
        "        'EUR_HAB_2GDP','EUR_HAB_EU27_2019','MIO_EUR','MIO_NAC','MIO_PPS',\n",
        "        'MIO_PPS_EU27_2019','PPS_EU27_2019_HAB','PPS_HAB','PPS_HAB_EU27_2019',\n",
        "        'SAL','EUR_HAB_2HHINC','ED0-2_25_64','ED3_4_25_64','ED3-8_25_64',\n",
        "        'ED5-8_25_64','ED3-8_30_34','MEDAGEMOTH','PPS_HAB_EU','ED3_4_30_34']\n",
        "        ,axis=1)\n",
        "    \n",
        "    X['JAN'] = pd.to_numeric(X['JAN'],errors='coerce')\n",
        "    # X['JAN'] = X['JAN'].astype(int)\n",
        "    X['TIME'] = X['TIME'].astype('category')\n",
        "\n",
        "    # A bit of feature engineering. EMP_PC is percentage employed.\n",
        "    X['EMP_PC'] = round((X['EMP'] * 100000)/X['JAN'],1)\n",
        "    X['EMP_PC'] = X['EMP_PC'].replace(np.inf, np.nan)\n",
        "    X = X.drop(['JAN','EMP'], axis=1)\n",
        "\n",
        "    # When columns have zeros and shouldn't, they are like null values.\n",
        "    # So we will replace the zeros with nulls, and impute missing values later.\n",
        "    cols_with_zeros = ['AGEMOTH', 'ED0-2_30_34', 'ED5-8_30_34','EMP_PC',\n",
        "                       'EUR_HAB_EU','GBIRTHRT','GDEATHRT','PER_KM2','RT',\n",
        "                       'TOTFERRT']\n",
        "\n",
        "    for col in cols_with_zeros:\n",
        "        X[col] = X[col].replace(0, np.nan)\n",
        "\n",
        "    X = X.rename(columns={\"ED0-2_30_34\": \"ED_LOW\", \"ED5-8_30_34\": \"ED_HIGH\"})    \n",
        "\n",
        "    # Make target feature categorical\n",
        "    X[\"MIG_CAT\"] = pd.cut(X[\"CNMIGRATRT\"], [-np.inf, 0, 5, np.inf], labels=[\"low\", \"avg\", \"high\"]).astype(np.object)\n",
        "    X = X.drop(['CNMIGRATRT'], axis=1)\n",
        "\n",
        "    # return the wrangled dataframe\n",
        "    return X\n",
        "\n",
        "\n",
        "train = wrangle(train)\n",
        "val = wrangle(val)\n",
        "test = wrangle(test)"
      ],
      "execution_count": 0,
      "outputs": []
    },
    {
      "cell_type": "code",
      "metadata": {
        "id": "KPo0zB1YEG4M",
        "colab_type": "code",
        "outputId": "90e4821d-015c-40eb-972b-2536ecbc1611",
        "colab": {
          "base_uri": "https://localhost:8080/",
          "height": 360
        }
      },
      "source": [
        "print(train.shape)\n",
        "train.head(10)"
      ],
      "execution_count": 0,
      "outputs": [
        {
          "output_type": "stream",
          "text": [
            "(5340, 14)\n"
          ],
          "name": "stdout"
        },
        {
          "output_type": "execute_result",
          "data": {
            "text/html": [
              "<div>\n",
              "<style scoped>\n",
              "    .dataframe tbody tr th:only-of-type {\n",
              "        vertical-align: middle;\n",
              "    }\n",
              "\n",
              "    .dataframe tbody tr th {\n",
              "        vertical-align: top;\n",
              "    }\n",
              "\n",
              "    .dataframe thead th {\n",
              "        text-align: right;\n",
              "    }\n",
              "</style>\n",
              "<table border=\"1\" class=\"dataframe\">\n",
              "  <thead>\n",
              "    <tr style=\"text-align: right;\">\n",
              "      <th></th>\n",
              "      <th>TIME</th>\n",
              "      <th>GEO</th>\n",
              "      <th>GEO_LABEL</th>\n",
              "      <th>AGEMOTH</th>\n",
              "      <th>TOTFERRT</th>\n",
              "      <th>GBIRTHRT</th>\n",
              "      <th>GDEATHRT</th>\n",
              "      <th>RT</th>\n",
              "      <th>PER_KM2</th>\n",
              "      <th>EUR_HAB_EU</th>\n",
              "      <th>ED_LOW</th>\n",
              "      <th>ED_HIGH</th>\n",
              "      <th>EMP_PC</th>\n",
              "      <th>MIG_CAT</th>\n",
              "    </tr>\n",
              "  </thead>\n",
              "  <tbody>\n",
              "    <tr>\n",
              "      <th>0</th>\n",
              "      <td>2000</td>\n",
              "      <td>AT</td>\n",
              "      <td>Austria</td>\n",
              "      <td>28.7</td>\n",
              "      <td>1.35</td>\n",
              "      <td>9.8</td>\n",
              "      <td>9.6</td>\n",
              "      <td>4.8</td>\n",
              "      <td>97.2</td>\n",
              "      <td>134.0</td>\n",
              "      <td>16.7</td>\n",
              "      <td>15.9</td>\n",
              "      <td>46.9</td>\n",
              "      <td>avg</td>\n",
              "    </tr>\n",
              "    <tr>\n",
              "      <th>1</th>\n",
              "      <td>2001</td>\n",
              "      <td>AT</td>\n",
              "      <td>Austria</td>\n",
              "      <td>28.9</td>\n",
              "      <td>1.31</td>\n",
              "      <td>9.4</td>\n",
              "      <td>9.3</td>\n",
              "      <td>4.8</td>\n",
              "      <td>97.5</td>\n",
              "      <td>133.0</td>\n",
              "      <td>16.0</td>\n",
              "      <td>16.1</td>\n",
              "      <td>47.2</td>\n",
              "      <td>high</td>\n",
              "    </tr>\n",
              "    <tr>\n",
              "      <th>2</th>\n",
              "      <td>2002</td>\n",
              "      <td>AT</td>\n",
              "      <td>Austria</td>\n",
              "      <td>29.1</td>\n",
              "      <td>1.38</td>\n",
              "      <td>9.7</td>\n",
              "      <td>9.4</td>\n",
              "      <td>4.1</td>\n",
              "      <td>98.0</td>\n",
              "      <td>132.0</td>\n",
              "      <td>15.9</td>\n",
              "      <td>17.2</td>\n",
              "      <td>46.9</td>\n",
              "      <td>avg</td>\n",
              "    </tr>\n",
              "    <tr>\n",
              "      <th>3</th>\n",
              "      <td>2003</td>\n",
              "      <td>AT</td>\n",
              "      <td>Austria</td>\n",
              "      <td>29.2</td>\n",
              "      <td>1.36</td>\n",
              "      <td>9.5</td>\n",
              "      <td>9.5</td>\n",
              "      <td>4.5</td>\n",
              "      <td>98.5</td>\n",
              "      <td>132.0</td>\n",
              "      <td>14.3</td>\n",
              "      <td>17.6</td>\n",
              "      <td>46.9</td>\n",
              "      <td>high</td>\n",
              "    </tr>\n",
              "    <tr>\n",
              "      <th>4</th>\n",
              "      <td>2004</td>\n",
              "      <td>AT</td>\n",
              "      <td>Austria</td>\n",
              "      <td>28.8</td>\n",
              "      <td>1.42</td>\n",
              "      <td>9.7</td>\n",
              "      <td>9.1</td>\n",
              "      <td>4.5</td>\n",
              "      <td>99.1</td>\n",
              "      <td>132.0</td>\n",
              "      <td>13.5</td>\n",
              "      <td>20.9</td>\n",
              "      <td>47.0</td>\n",
              "      <td>high</td>\n",
              "    </tr>\n",
              "    <tr>\n",
              "      <th>5</th>\n",
              "      <td>2005</td>\n",
              "      <td>AT</td>\n",
              "      <td>Austria</td>\n",
              "      <td>29.0</td>\n",
              "      <td>1.41</td>\n",
              "      <td>9.5</td>\n",
              "      <td>9.1</td>\n",
              "      <td>4.2</td>\n",
              "      <td>99.8</td>\n",
              "      <td>132.0</td>\n",
              "      <td>13.9</td>\n",
              "      <td>20.7</td>\n",
              "      <td>47.2</td>\n",
              "      <td>high</td>\n",
              "    </tr>\n",
              "    <tr>\n",
              "      <th>6</th>\n",
              "      <td>2006</td>\n",
              "      <td>AT</td>\n",
              "      <td>Austria</td>\n",
              "      <td>29.2</td>\n",
              "      <td>1.41</td>\n",
              "      <td>9.4</td>\n",
              "      <td>9.0</td>\n",
              "      <td>3.6</td>\n",
              "      <td>100.3</td>\n",
              "      <td>131.0</td>\n",
              "      <td>13.6</td>\n",
              "      <td>21.1</td>\n",
              "      <td>47.7</td>\n",
              "      <td>avg</td>\n",
              "    </tr>\n",
              "    <tr>\n",
              "      <th>7</th>\n",
              "      <td>2007</td>\n",
              "      <td>AT</td>\n",
              "      <td>Austria</td>\n",
              "      <td>29.4</td>\n",
              "      <td>1.38</td>\n",
              "      <td>9.2</td>\n",
              "      <td>9.0</td>\n",
              "      <td>3.7</td>\n",
              "      <td>100.6</td>\n",
              "      <td>131.0</td>\n",
              "      <td>13.5</td>\n",
              "      <td>20.9</td>\n",
              "      <td>48.4</td>\n",
              "      <td>avg</td>\n",
              "    </tr>\n",
              "    <tr>\n",
              "      <th>8</th>\n",
              "      <td>2008</td>\n",
              "      <td>AT</td>\n",
              "      <td>Austria</td>\n",
              "      <td>29.5</td>\n",
              "      <td>1.42</td>\n",
              "      <td>9.3</td>\n",
              "      <td>9.0</td>\n",
              "      <td>3.7</td>\n",
              "      <td>100.9</td>\n",
              "      <td>135.0</td>\n",
              "      <td>12.8</td>\n",
              "      <td>21.9</td>\n",
              "      <td>49.2</td>\n",
              "      <td>avg</td>\n",
              "    </tr>\n",
              "    <tr>\n",
              "      <th>9</th>\n",
              "      <td>2009</td>\n",
              "      <td>AT</td>\n",
              "      <td>Austria</td>\n",
              "      <td>29.7</td>\n",
              "      <td>1.39</td>\n",
              "      <td>9.2</td>\n",
              "      <td>9.3</td>\n",
              "      <td>3.8</td>\n",
              "      <td>101.2</td>\n",
              "      <td>141.0</td>\n",
              "      <td>11.7</td>\n",
              "      <td>23.4</td>\n",
              "      <td>48.8</td>\n",
              "      <td>avg</td>\n",
              "    </tr>\n",
              "  </tbody>\n",
              "</table>\n",
              "</div>"
            ],
            "text/plain": [
              "   TIME GEO GEO_LABEL  AGEMOTH  ...  ED_LOW  ED_HIGH  EMP_PC  MIG_CAT\n",
              "0  2000  AT   Austria     28.7  ...    16.7     15.9    46.9      avg\n",
              "1  2001  AT   Austria     28.9  ...    16.0     16.1    47.2     high\n",
              "2  2002  AT   Austria     29.1  ...    15.9     17.2    46.9      avg\n",
              "3  2003  AT   Austria     29.2  ...    14.3     17.6    46.9     high\n",
              "4  2004  AT   Austria     28.8  ...    13.5     20.9    47.0     high\n",
              "5  2005  AT   Austria     29.0  ...    13.9     20.7    47.2     high\n",
              "6  2006  AT   Austria     29.2  ...    13.6     21.1    47.7      avg\n",
              "7  2007  AT   Austria     29.4  ...    13.5     20.9    48.4      avg\n",
              "8  2008  AT   Austria     29.5  ...    12.8     21.9    49.2      avg\n",
              "9  2009  AT   Austria     29.7  ...    11.7     23.4    48.8      avg\n",
              "\n",
              "[10 rows x 14 columns]"
            ]
          },
          "metadata": {
            "tags": []
          },
          "execution_count": 66
        }
      ]
    },
    {
      "cell_type": "code",
      "metadata": {
        "id": "qIhZcmRAUvbU",
        "colab_type": "code",
        "outputId": "1a59c7cb-dadf-4c8c-afe5-54f5d7286a60",
        "colab": {
          "base_uri": "https://localhost:8080/",
          "height": 284
        }
      },
      "source": [
        "train.describe()"
      ],
      "execution_count": 0,
      "outputs": [
        {
          "output_type": "execute_result",
          "data": {
            "text/html": [
              "<div>\n",
              "<style scoped>\n",
              "    .dataframe tbody tr th:only-of-type {\n",
              "        vertical-align: middle;\n",
              "    }\n",
              "\n",
              "    .dataframe tbody tr th {\n",
              "        vertical-align: top;\n",
              "    }\n",
              "\n",
              "    .dataframe thead th {\n",
              "        text-align: right;\n",
              "    }\n",
              "</style>\n",
              "<table border=\"1\" class=\"dataframe\">\n",
              "  <thead>\n",
              "    <tr style=\"text-align: right;\">\n",
              "      <th></th>\n",
              "      <th>AGEMOTH</th>\n",
              "      <th>TOTFERRT</th>\n",
              "      <th>GBIRTHRT</th>\n",
              "      <th>GDEATHRT</th>\n",
              "      <th>RT</th>\n",
              "      <th>PER_KM2</th>\n",
              "      <th>EUR_HAB_EU</th>\n",
              "      <th>ED_LOW</th>\n",
              "      <th>ED_HIGH</th>\n",
              "      <th>EMP_PC</th>\n",
              "    </tr>\n",
              "  </thead>\n",
              "  <tbody>\n",
              "    <tr>\n",
              "      <th>count</th>\n",
              "      <td>4553.000000</td>\n",
              "      <td>4553.000000</td>\n",
              "      <td>4726.000000</td>\n",
              "      <td>4688.000000</td>\n",
              "      <td>4535.000000</td>\n",
              "      <td>5063.000000</td>\n",
              "      <td>4274.000000</td>\n",
              "      <td>4501.000000</td>\n",
              "      <td>4517.000000</td>\n",
              "      <td>3799.000000</td>\n",
              "    </tr>\n",
              "    <tr>\n",
              "      <th>mean</th>\n",
              "      <td>29.331496</td>\n",
              "      <td>1.582546</td>\n",
              "      <td>10.762992</td>\n",
              "      <td>9.887991</td>\n",
              "      <td>4.932172</td>\n",
              "      <td>382.158681</td>\n",
              "      <td>94.124474</td>\n",
              "      <td>25.558454</td>\n",
              "      <td>27.560040</td>\n",
              "      <td>45.534483</td>\n",
              "    </tr>\n",
              "    <tr>\n",
              "      <th>std</th>\n",
              "      <td>1.337198</td>\n",
              "      <td>0.325652</td>\n",
              "      <td>2.568682</td>\n",
              "      <td>1.922314</td>\n",
              "      <td>2.980237</td>\n",
              "      <td>978.579942</td>\n",
              "      <td>61.314426</td>\n",
              "      <td>16.774505</td>\n",
              "      <td>11.283108</td>\n",
              "      <td>8.912151</td>\n",
              "    </tr>\n",
              "    <tr>\n",
              "      <th>min</th>\n",
              "      <td>24.300000</td>\n",
              "      <td>0.860000</td>\n",
              "      <td>6.400000</td>\n",
              "      <td>3.000000</td>\n",
              "      <td>0.200000</td>\n",
              "      <td>2.000000</td>\n",
              "      <td>6.000000</td>\n",
              "      <td>1.400000</td>\n",
              "      <td>2.900000</td>\n",
              "      <td>27.600000</td>\n",
              "    </tr>\n",
              "    <tr>\n",
              "      <th>25%</th>\n",
              "      <td>28.700000</td>\n",
              "      <td>1.350000</td>\n",
              "      <td>9.200000</td>\n",
              "      <td>8.900000</td>\n",
              "      <td>3.300000</td>\n",
              "      <td>69.000000</td>\n",
              "      <td>53.000000</td>\n",
              "      <td>14.400000</td>\n",
              "      <td>19.000000</td>\n",
              "      <td>41.000000</td>\n",
              "    </tr>\n",
              "    <tr>\n",
              "      <th>50%</th>\n",
              "      <td>29.400000</td>\n",
              "      <td>1.520000</td>\n",
              "      <td>10.400000</td>\n",
              "      <td>9.800000</td>\n",
              "      <td>4.000000</td>\n",
              "      <td>112.800000</td>\n",
              "      <td>92.000000</td>\n",
              "      <td>20.400000</td>\n",
              "      <td>26.800000</td>\n",
              "      <td>45.200000</td>\n",
              "    </tr>\n",
              "    <tr>\n",
              "      <th>75%</th>\n",
              "      <td>30.200000</td>\n",
              "      <td>1.810000</td>\n",
              "      <td>11.800000</td>\n",
              "      <td>10.900000</td>\n",
              "      <td>5.300000</td>\n",
              "      <td>265.700000</td>\n",
              "      <td>126.000000</td>\n",
              "      <td>31.900000</td>\n",
              "      <td>35.700000</td>\n",
              "      <td>48.700000</td>\n",
              "    </tr>\n",
              "    <tr>\n",
              "      <th>max</th>\n",
              "      <td>32.500000</td>\n",
              "      <td>3.940000</td>\n",
              "      <td>30.900000</td>\n",
              "      <td>19.800000</td>\n",
              "      <td>23.000000</td>\n",
              "      <td>10205.400000</td>\n",
              "      <td>716.000000</td>\n",
              "      <td>88.900000</td>\n",
              "      <td>77.500000</td>\n",
              "      <td>156.700000</td>\n",
              "    </tr>\n",
              "  </tbody>\n",
              "</table>\n",
              "</div>"
            ],
            "text/plain": [
              "           AGEMOTH     TOTFERRT  ...      ED_HIGH       EMP_PC\n",
              "count  4553.000000  4553.000000  ...  4517.000000  3799.000000\n",
              "mean     29.331496     1.582546  ...    27.560040    45.534483\n",
              "std       1.337198     0.325652  ...    11.283108     8.912151\n",
              "min      24.300000     0.860000  ...     2.900000    27.600000\n",
              "25%      28.700000     1.350000  ...    19.000000    41.000000\n",
              "50%      29.400000     1.520000  ...    26.800000    45.200000\n",
              "75%      30.200000     1.810000  ...    35.700000    48.700000\n",
              "max      32.500000     3.940000  ...    77.500000   156.700000\n",
              "\n",
              "[8 rows x 10 columns]"
            ]
          },
          "metadata": {
            "tags": []
          },
          "execution_count": 7
        }
      ]
    },
    {
      "cell_type": "code",
      "metadata": {
        "id": "HW11JyIx2Dio",
        "colab_type": "code",
        "colab": {}
      },
      "source": [
        "# Generate Pandas Profiling Report and export to html\n",
        "\n",
        "import pandas_profiling\n",
        "\n",
        "profile_report = train.profile_report(\n",
        "    check_correlation_pearson=True,\n",
        "    correlations={\n",
        "        'pearson': True,\n",
        "        'spearman': False,\n",
        "        'kendall': False,\n",
        "        'phi_k': False,\n",
        "        'cramers': False,\n",
        "        'recoded': False,\n",
        "    },\n",
        "    plot={'histogram': {'bayesian_blocks_bins': False}},\n",
        "    )\n",
        "\n",
        "profile_report.to_file(output_file=\"train.html\")"
      ],
      "execution_count": 0,
      "outputs": []
    },
    {
      "cell_type": "markdown",
      "metadata": {
        "id": "YTi09Ru40pO9",
        "colab_type": "text"
      },
      "source": [
        "## Baseline"
      ]
    },
    {
      "cell_type": "code",
      "metadata": {
        "id": "zEoyD5YrunPC",
        "colab_type": "code",
        "outputId": "6ddea5d9-6976-4d72-f9e5-74396a1b2c35",
        "colab": {
          "base_uri": "https://localhost:8080/",
          "height": 84
        }
      },
      "source": [
        "y = train['MIG_CAT']\n",
        "y.value_counts(normalize=True)"
      ],
      "execution_count": 0,
      "outputs": [
        {
          "output_type": "execute_result",
          "data": {
            "text/plain": [
              "avg     0.397566\n",
              "low     0.359925\n",
              "high    0.242509\n",
              "Name: MIG_CAT, dtype: float64"
            ]
          },
          "metadata": {
            "tags": []
          },
          "execution_count": 67
        }
      ]
    },
    {
      "cell_type": "markdown",
      "metadata": {
        "id": "XwAFi8Zr1iBj",
        "colab_type": "text"
      },
      "source": [
        "Baseline prediction: majority class (avg) occurs with 40% frequency."
      ]
    },
    {
      "cell_type": "markdown",
      "metadata": {
        "id": "tZY5Dnv2SrSQ",
        "colab_type": "text"
      },
      "source": [
        "## Model"
      ]
    },
    {
      "cell_type": "code",
      "metadata": {
        "id": "qgqQV5DtSskN",
        "colab_type": "code",
        "colab": {}
      },
      "source": [
        "# Arrange data into X features matrix and y target vector\n",
        "target = 'MIG_CAT'\n",
        "features = train.columns.drop([target, 'GEO_LABEL'])\n",
        "\n",
        "X_train = train[features]\n",
        "X_val = val[features]\n",
        "X_test = test[features]\n",
        "\n",
        "y_train = train[target]\n",
        "y_val = val[target]\n",
        "y_test = test[target]"
      ],
      "execution_count": 0,
      "outputs": []
    },
    {
      "cell_type": "code",
      "metadata": {
        "id": "6JwPZjEwTPXL",
        "colab_type": "code",
        "outputId": "bb73a92f-21f1-4d85-a5df-1d64fe58e904",
        "colab": {
          "base_uri": "https://localhost:8080/",
          "height": 34
        }
      },
      "source": [
        "import category_encoders as ce\n",
        "from sklearn.impute import SimpleImputer\n",
        "from sklearn.ensemble import RandomForestClassifier\n",
        "from sklearn.pipeline import make_pipeline\n",
        "\n",
        "pipeline = make_pipeline(\n",
        "    ce.OrdinalEncoder(), \n",
        "    SimpleImputer(strategy='median'), \n",
        "    RandomForestClassifier(n_estimators=100, random_state=42, n_jobs=-1)\n",
        ")\n",
        "\n",
        "# Fit on train, score on val\n",
        "pipeline.fit(X_train, y_train)\n",
        "print('Validation Accuracy', pipeline.score(X_val, y_val))"
      ],
      "execution_count": 0,
      "outputs": [
        {
          "output_type": "stream",
          "text": [
            "Validation Accuracy 0.6217228464419475\n"
          ],
          "name": "stdout"
        }
      ]
    },
    {
      "cell_type": "markdown",
      "metadata": {
        "id": "SnuJWxs2uicb",
        "colab_type": "text"
      },
      "source": [
        "## Feature Importances"
      ]
    },
    {
      "cell_type": "code",
      "metadata": {
        "id": "4l57qMzzukph",
        "colab_type": "code",
        "outputId": "62696404-dc81-4824-8577-7629fc25e2a1",
        "colab": {
          "base_uri": "https://localhost:8080/",
          "height": 390
        }
      },
      "source": [
        "# Get feature importances\n",
        "rf = pipeline.named_steps['randomforestclassifier']\n",
        "importances = pd.Series(rf.feature_importances_, X_train.columns)\n",
        "\n",
        "# Plot feature importances\n",
        "%matplotlib inline\n",
        "import matplotlib.pyplot as plt\n",
        "\n",
        "n = 12\n",
        "plt.figure(figsize=(10,n/2))\n",
        "plt.title(f'Top {n} features')\n",
        "importances.sort_values()[-n:].plot.barh(color='grey');"
      ],
      "execution_count": 0,
      "outputs": [
        {
          "output_type": "display_data",
          "data": {
            "image/png": "[encoded data removed]",
            "text/plain": [
              "<Figure size 720x432 with 1 Axes>"
            ]
          },
          "metadata": {
            "tags": []
          }
        }
      ]
    },
    {
      "cell_type": "markdown",
      "metadata": {
        "id": "c_6WYFTmut11",
        "colab_type": "text"
      },
      "source": [
        "## Drop-Column Importance"
      ]
    },
    {
      "cell_type": "code",
      "metadata": {
        "id": "R56XzaQ9uzkG",
        "colab_type": "code",
        "outputId": "eca2d808-0008-4ee4-d4f3-cd9c96db66fb",
        "colab": {
          "base_uri": "https://localhost:8080/",
          "height": 67
        }
      },
      "source": [
        "column  = 'EUR_HAB_EU'\n",
        "\n",
        "# Fit without column\n",
        "pipeline = make_pipeline(\n",
        "    ce.OrdinalEncoder(), \n",
        "    SimpleImputer(strategy='median'), \n",
        "    RandomForestClassifier(n_estimators=100, random_state=42, n_jobs=-1)\n",
        ")\n",
        "pipeline.fit(X_train.drop(columns=column), y_train)\n",
        "score_without = pipeline.score(X_val.drop(columns=column), y_val)\n",
        "print(f'Validation Accuracy without {column}: {score_without}')\n",
        "\n",
        "# Fit with column\n",
        "pipeline = make_pipeline(\n",
        "    ce.OrdinalEncoder(), \n",
        "    SimpleImputer(strategy='median'), \n",
        "    RandomForestClassifier(n_estimators=100, random_state=42, n_jobs=-1)\n",
        ")\n",
        "pipeline.fit(X_train, y_train)\n",
        "score_with = pipeline.score(X_val, y_val)\n",
        "print(f'Validation Accuracy with {column}: {score_with}')\n",
        "\n",
        "# Compare the error with & without column\n",
        "print(f'Drop-Column Importance for {column}: {score_with - score_without}')"
      ],
      "execution_count": 0,
      "outputs": [
        {
          "output_type": "stream",
          "text": [
            "Validation Accuracy without EUR_HAB_EU: 0.5865168539325842\n",
            "Validation Accuracy with EUR_HAB_EU: 0.6217228464419475\n",
            "Drop-Column Importance for EUR_HAB_EU: 0.03520599250936329\n"
          ],
          "name": "stdout"
        }
      ]
    },
    {
      "cell_type": "code",
      "metadata": {
        "id": "b1TWYipovATO",
        "colab_type": "code",
        "outputId": "700248cd-921d-4069-f736-b4f79160ee87",
        "colab": {
          "base_uri": "https://localhost:8080/",
          "height": 50
        }
      },
      "source": [
        "column  = 'GEO'\n",
        "\n",
        "# Fit without column\n",
        "pipeline = make_pipeline(\n",
        "    ce.OrdinalEncoder(), \n",
        "    SimpleImputer(strategy='median'), \n",
        "    RandomForestClassifier(n_estimators=100, random_state=42, n_jobs=-1)\n",
        ")\n",
        "pipeline.fit(X_train.drop(columns=column), y_train)\n",
        "score_without = pipeline.score(X_val.drop(columns=column), y_val)\n",
        "print(f'Validation Accuracy without {column}: {score_without}')\n",
        "\n",
        "# Compare the error with & without column\n",
        "print(f'Drop-Column Importance for {column}: {score_with - score_without}')"
      ],
      "execution_count": 0,
      "outputs": [
        {
          "output_type": "stream",
          "text": [
            "Validation Accuracy without GEO: 0.5797752808988764\n",
            "Drop-Column Importance for GEO: 0.04194756554307111\n"
          ],
          "name": "stdout"
        }
      ]
    },
    {
      "cell_type": "code",
      "metadata": {
        "id": "muVjlJlTvNC3",
        "colab_type": "code",
        "outputId": "14167552-0775-4d16-f1f9-cfe3e3cbb3eb",
        "colab": {
          "base_uri": "https://localhost:8080/",
          "height": 50
        }
      },
      "source": [
        "column  = 'PER_KM2'\n",
        "\n",
        "# Fit without column\n",
        "pipeline = make_pipeline(\n",
        "    ce.OrdinalEncoder(), \n",
        "    SimpleImputer(strategy='median'), \n",
        "    RandomForestClassifier(n_estimators=100, random_state=42, n_jobs=-1)\n",
        ")\n",
        "pipeline.fit(X_train.drop(columns=column), y_train)\n",
        "score_without = pipeline.score(X_val.drop(columns=column), y_val)\n",
        "print(f'Validation Accuracy without {column}: {score_without}')\n",
        "\n",
        "# Compare the error with & without column\n",
        "print(f'Drop-Column Importance for {column}: {score_with - score_without}')"
      ],
      "execution_count": 0,
      "outputs": [
        {
          "output_type": "stream",
          "text": [
            "Validation Accuracy without PER_KM2: 0.6232209737827715\n",
            "Drop-Column Importance for PER_KM2: -0.001498127340823996\n"
          ],
          "name": "stdout"
        }
      ]
    },
    {
      "cell_type": "markdown",
      "metadata": {
        "id": "ETf-syH7vUDL",
        "colab_type": "text"
      },
      "source": [
        "## Permutation Importance"
      ]
    },
    {
      "cell_type": "code",
      "metadata": {
        "id": "ucfSHw_PJJ8z",
        "colab_type": "code",
        "colab": {}
      },
      "source": [
        "transformers = make_pipeline(\n",
        "    ce.OrdinalEncoder(), \n",
        "    SimpleImputer(strategy='median')\n",
        ")"
      ],
      "execution_count": 0,
      "outputs": []
    },
    {
      "cell_type": "code",
      "metadata": {
        "colab_type": "code",
        "id": "hpSemTkFFP8i",
        "outputId": "044fa649-6bfa-4e39-8660-c3dec6c5f797",
        "colab": {
          "base_uri": "https://localhost:8080/",
          "height": 134
        }
      },
      "source": [
        "X_train_transformed = transformers.fit_transform(X_train)\n",
        "X_val_transformed = transformers.transform(X_val)\n",
        "\n",
        "model = RandomForestClassifier(n_estimators=100, random_state=42, n_jobs=-1)\n",
        "model.fit(X_train_transformed, y_train)"
      ],
      "execution_count": 0,
      "outputs": [
        {
          "output_type": "execute_result",
          "data": {
            "text/plain": [
              "RandomForestClassifier(bootstrap=True, class_weight=None, criterion='gini',\n",
              "                       max_depth=None, max_features='auto', max_leaf_nodes=None,\n",
              "                       min_impurity_decrease=0.0, min_impurity_split=None,\n",
              "                       min_samples_leaf=1, min_samples_split=2,\n",
              "                       min_weight_fraction_leaf=0.0, n_estimators=100,\n",
              "                       n_jobs=-1, oob_score=False, random_state=42, verbose=0,\n",
              "                       warm_start=False)"
            ]
          },
          "metadata": {
            "tags": []
          },
          "execution_count": 75
        }
      ]
    },
    {
      "cell_type": "code",
      "metadata": {
        "id": "SCeRRyAWvtco",
        "colab_type": "code",
        "outputId": "8b7bc6c9-962d-42b8-c411-873bae772cbf",
        "colab": {
          "base_uri": "https://localhost:8080/",
          "height": 269
        }
      },
      "source": [
        "!pip install eli5"
      ],
      "execution_count": 0,
      "outputs": [
        {
          "output_type": "stream",
          "text": [
            "Collecting eli5\n",
            "\u001b[?25l  Downloading https://files.pythonhosted.org/packages/97/2f/c85c7d8f8548e460829971785347e14e45fa5c6617da374711dec8cb38cc/eli5-0.10.1-py2.py3-none-any.whl (105kB)\n",
            "\r\u001b[K     |███                             | 10kB 19.7MB/s eta 0:00:01\r\u001b[K     |██████▏                         | 20kB 6.6MB/s eta 0:00:01\r\u001b[K     |█████████▎                      | 30kB 9.2MB/s eta 0:00:01\r\u001b[K     |████████████▍                   | 40kB 5.9MB/s eta 0:00:01\r\u001b[K     |███████████████▌                | 51kB 7.2MB/s eta 0:00:01\r\u001b[K     |██████████████████▋             | 61kB 8.5MB/s eta 0:00:01\r\u001b[K     |█████████████████████▊          | 71kB 9.7MB/s eta 0:00:01\r\u001b[K     |████████████████████████▊       | 81kB 10.9MB/s eta 0:00:01\r\u001b[K     |███████████████████████████▉    | 92kB 8.7MB/s eta 0:00:01\r\u001b[K     |███████████████████████████████ | 102kB 9.6MB/s eta 0:00:01\r\u001b[K     |████████████████████████████████| 112kB 9.6MB/s \n",
            "\u001b[?25hRequirement already satisfied: six in /usr/local/lib/python3.6/dist-packages (from eli5) (1.12.0)\n",
            "Requirement already satisfied: graphviz in /usr/local/lib/python3.6/dist-packages (from eli5) (0.10.1)\n",
            "Requirement already satisfied: jinja2 in /usr/local/lib/python3.6/dist-packages (from eli5) (2.10.3)\n",
            "Requirement already satisfied: tabulate>=0.7.7 in /usr/local/lib/python3.6/dist-packages (from eli5) (0.8.6)\n",
            "Requirement already satisfied: scikit-learn>=0.18 in /usr/local/lib/python3.6/dist-packages (from eli5) (0.21.3)\n",
            "Requirement already satisfied: numpy>=1.9.0 in /usr/local/lib/python3.6/dist-packages (from eli5) (1.17.4)\n",
            "Requirement already satisfied: attrs>16.0.0 in /usr/local/lib/python3.6/dist-packages (from eli5) (19.3.0)\n",
            "Requirement already satisfied: scipy in /usr/local/lib/python3.6/dist-packages (from eli5) (1.3.3)\n",
            "Requirement already satisfied: MarkupSafe>=0.23 in /usr/local/lib/python3.6/dist-packages (from jinja2->eli5) (1.1.1)\n",
            "Requirement already satisfied: joblib>=0.11 in /usr/local/lib/python3.6/dist-packages (from scikit-learn>=0.18->eli5) (0.14.1)\n",
            "Installing collected packages: eli5\n",
            "Successfully installed eli5-0.10.1\n"
          ],
          "name": "stdout"
        }
      ]
    },
    {
      "cell_type": "code",
      "metadata": {
        "id": "1zfHiZZKJmqf",
        "colab_type": "code",
        "outputId": "be0f8ed3-0af7-4d47-c861-5baf35803ba6",
        "colab": {
          "base_uri": "https://localhost:8080/",
          "height": 415
        }
      },
      "source": [
        "import eli5\n",
        "from eli5.sklearn import PermutationImportance\n",
        "\n",
        "# 1. Calculate permutation importances\n",
        "permuter = PermutationImportance(\n",
        "    model, \n",
        "    scoring='accuracy', \n",
        "    n_iter=5, \n",
        "    random_state=42\n",
        ")\n",
        "\n",
        "permuter.fit(X_val_transformed, y_val)"
      ],
      "execution_count": 0,
      "outputs": [
        {
          "output_type": "stream",
          "text": [
            "Using TensorFlow backend.\n"
          ],
          "name": "stderr"
        },
        {
          "output_type": "display_data",
          "data": {
            "text/html": [
              "<p style=\"color: red;\">\n",
              "The default version of TensorFlow in Colab will soon switch to TensorFlow 2.x.<br>\n",
              "We recommend you <a href=\"https://www.tensorflow.org/guide/migrate\" target=\"_blank\">upgrade</a> now \n",
              "or ensure your notebook will continue to use TensorFlow 1.x via the <code>%tensorflow_version 1.x</code> magic:\n",
              "<a href=\"https://colab.research.google.com/notebooks/tensorflow_version.ipynb\" target=\"_blank\">more info</a>.</p>\n"
            ],
            "text/plain": [
              "<IPython.core.display.HTML object>"
            ]
          },
          "metadata": {
            "tags": []
          }
        },
        {
          "output_type": "execute_result",
          "data": {
            "text/plain": [
              "PermutationImportance(cv='prefit',\n",
              "                      estimator=RandomForestClassifier(bootstrap=True,\n",
              "                                                       class_weight=None,\n",
              "                                                       criterion='gini',\n",
              "                                                       max_depth=None,\n",
              "                                                       max_features='auto',\n",
              "                                                       max_leaf_nodes=None,\n",
              "                                                       min_impurity_decrease=0.0,\n",
              "                                                       min_impurity_split=None,\n",
              "                                                       min_samples_leaf=1,\n",
              "                                                       min_samples_split=2,\n",
              "                                                       min_weight_fraction_leaf=0.0,\n",
              "                                                       n_estimators=100,\n",
              "                                                       n_jobs=-1,\n",
              "                                                       oob_score=False,\n",
              "                                                       random_state=42,\n",
              "                                                       verbose=0,\n",
              "                                                       warm_start=False),\n",
              "                      n_iter=5, random_state=42, refit=True,\n",
              "                      scoring='accuracy')"
            ]
          },
          "metadata": {
            "tags": []
          },
          "execution_count": 77
        }
      ]
    },
    {
      "cell_type": "code",
      "metadata": {
        "id": "peq3dVRzv5id",
        "colab_type": "code",
        "outputId": "5379c1bb-2f90-47c2-ab18-31d2d8f58016",
        "colab": {
          "base_uri": "https://localhost:8080/",
          "height": 235
        }
      },
      "source": [
        "feature_names = X_val.columns.tolist()\n",
        "# pd.Series(permuter.feature_importances_, feature_names).sort_values()\n",
        "\n",
        "# 2. Display permutation importances\n",
        "eli5.show_weights(\n",
        "    permuter, \n",
        "    top=None, # show permutation importances for all features\n",
        "    feature_names=feature_names # must be a list\n",
        ")"
      ],
      "execution_count": 0,
      "outputs": [
        {
          "output_type": "execute_result",
          "data": {
            "text/html": [
              "\n",
              "    <style>\n",
              "    table.eli5-weights tr:hover {\n",
              "        filter: brightness(85%);\n",
              "    }\n",
              "</style>\n",
              "\n",
              "\n",
              "\n",
              "    \n",
              "\n",
              "    \n",
              "\n",
              "    \n",
              "\n",
              "    \n",
              "\n",
              "    \n",
              "\n",
              "    \n",
              "\n",
              "\n",
              "    \n",
              "\n",
              "    \n",
              "\n",
              "    \n",
              "\n",
              "    \n",
              "\n",
              "    \n",
              "\n",
              "    \n",
              "\n",
              "\n",
              "    \n",
              "\n",
              "    \n",
              "\n",
              "    \n",
              "\n",
              "    \n",
              "\n",
              "    \n",
              "        <table class=\"eli5-weights eli5-feature-importances\" style=\"border-collapse: collapse; border: none; margin-top: 0em; table-layout: auto;\">\n",
              "    <thead>\n",
              "    <tr style=\"border: none;\">\n",
              "        <th style=\"padding: 0 1em 0 0.5em; text-align: right; border: none;\">Weight</th>\n",
              "        <th style=\"padding: 0 0.5em 0 0.5em; text-align: left; border: none;\">Feature</th>\n",
              "    </tr>\n",
              "    </thead>\n",
              "    <tbody>\n",
              "    \n",
              "        <tr style=\"background-color: hsl(120, 100.00%, 80.00%); border: none;\">\n",
              "            <td style=\"padding: 0 1em 0 0.5em; text-align: right; border: none;\">\n",
              "                0.0867\n",
              "                \n",
              "                    &plusmn; 0.0131\n",
              "                \n",
              "            </td>\n",
              "            <td style=\"padding: 0 0.5em 0 0.5em; text-align: left; border: none;\">\n",
              "                EUR_HAB_EU\n",
              "            </td>\n",
              "        </tr>\n",
              "    \n",
              "        <tr style=\"background-color: hsl(120, 100.00%, 87.11%); border: none;\">\n",
              "            <td style=\"padding: 0 1em 0 0.5em; text-align: right; border: none;\">\n",
              "                0.0463\n",
              "                \n",
              "                    &plusmn; 0.0077\n",
              "                \n",
              "            </td>\n",
              "            <td style=\"padding: 0 0.5em 0 0.5em; text-align: left; border: none;\">\n",
              "                GEO\n",
              "            </td>\n",
              "        </tr>\n",
              "    \n",
              "        <tr style=\"background-color: hsl(120, 100.00%, 87.32%); border: none;\">\n",
              "            <td style=\"padding: 0 1em 0 0.5em; text-align: right; border: none;\">\n",
              "                0.0452\n",
              "                \n",
              "                    &plusmn; 0.0077\n",
              "                \n",
              "            </td>\n",
              "            <td style=\"padding: 0 0.5em 0 0.5em; text-align: left; border: none;\">\n",
              "                EMP_PC\n",
              "            </td>\n",
              "        </tr>\n",
              "    \n",
              "        <tr style=\"background-color: hsl(120, 100.00%, 87.88%); border: none;\">\n",
              "            <td style=\"padding: 0 1em 0 0.5em; text-align: right; border: none;\">\n",
              "                0.0424\n",
              "                \n",
              "                    &plusmn; 0.0081\n",
              "                \n",
              "            </td>\n",
              "            <td style=\"padding: 0 0.5em 0 0.5em; text-align: left; border: none;\">\n",
              "                GDEATHRT\n",
              "            </td>\n",
              "        </tr>\n",
              "    \n",
              "        <tr style=\"background-color: hsl(120, 100.00%, 90.43%); border: none;\">\n",
              "            <td style=\"padding: 0 1em 0 0.5em; text-align: right; border: none;\">\n",
              "                0.0303\n",
              "                \n",
              "                    &plusmn; 0.0045\n",
              "                \n",
              "            </td>\n",
              "            <td style=\"padding: 0 0.5em 0 0.5em; text-align: left; border: none;\">\n",
              "                ED_LOW\n",
              "            </td>\n",
              "        </tr>\n",
              "    \n",
              "        <tr style=\"background-color: hsl(120, 100.00%, 91.48%); border: none;\">\n",
              "            <td style=\"padding: 0 1em 0 0.5em; text-align: right; border: none;\">\n",
              "                0.0256\n",
              "                \n",
              "                    &plusmn; 0.0078\n",
              "                \n",
              "            </td>\n",
              "            <td style=\"padding: 0 0.5em 0 0.5em; text-align: left; border: none;\">\n",
              "                AGEMOTH\n",
              "            </td>\n",
              "        </tr>\n",
              "    \n",
              "        <tr style=\"background-color: hsl(120, 100.00%, 91.66%); border: none;\">\n",
              "            <td style=\"padding: 0 1em 0 0.5em; text-align: right; border: none;\">\n",
              "                0.0249\n",
              "                \n",
              "                    &plusmn; 0.0122\n",
              "                \n",
              "            </td>\n",
              "            <td style=\"padding: 0 0.5em 0 0.5em; text-align: left; border: none;\">\n",
              "                ED_HIGH\n",
              "            </td>\n",
              "        </tr>\n",
              "    \n",
              "        <tr style=\"background-color: hsl(120, 100.00%, 92.78%); border: none;\">\n",
              "            <td style=\"padding: 0 1em 0 0.5em; text-align: right; border: none;\">\n",
              "                0.0202\n",
              "                \n",
              "                    &plusmn; 0.0138\n",
              "                \n",
              "            </td>\n",
              "            <td style=\"padding: 0 0.5em 0 0.5em; text-align: left; border: none;\">\n",
              "                PER_KM2\n",
              "            </td>\n",
              "        </tr>\n",
              "    \n",
              "        <tr style=\"background-color: hsl(120, 100.00%, 93.95%); border: none;\">\n",
              "            <td style=\"padding: 0 1em 0 0.5em; text-align: right; border: none;\">\n",
              "                0.0157\n",
              "                \n",
              "                    &plusmn; 0.0079\n",
              "                \n",
              "            </td>\n",
              "            <td style=\"padding: 0 0.5em 0 0.5em; text-align: left; border: none;\">\n",
              "                TOTFERRT\n",
              "            </td>\n",
              "        </tr>\n",
              "    \n",
              "        <tr style=\"background-color: hsl(120, 100.00%, 94.11%); border: none;\">\n",
              "            <td style=\"padding: 0 1em 0 0.5em; text-align: right; border: none;\">\n",
              "                0.0151\n",
              "                \n",
              "                    &plusmn; 0.0106\n",
              "                \n",
              "            </td>\n",
              "            <td style=\"padding: 0 0.5em 0 0.5em; text-align: left; border: none;\">\n",
              "                RT\n",
              "            </td>\n",
              "        </tr>\n",
              "    \n",
              "        <tr style=\"background-color: hsl(120, 100.00%, 95.53%); border: none;\">\n",
              "            <td style=\"padding: 0 1em 0 0.5em; text-align: right; border: none;\">\n",
              "                0.0102\n",
              "                \n",
              "                    &plusmn; 0.0105\n",
              "                \n",
              "            </td>\n",
              "            <td style=\"padding: 0 0.5em 0 0.5em; text-align: left; border: none;\">\n",
              "                GBIRTHRT\n",
              "            </td>\n",
              "        </tr>\n",
              "    \n",
              "        <tr style=\"background-color: hsl(0, 100.00%, 100.00%); border: none;\">\n",
              "            <td style=\"padding: 0 1em 0 0.5em; text-align: right; border: none;\">\n",
              "                0\n",
              "                \n",
              "                    &plusmn; 0.0000\n",
              "                \n",
              "            </td>\n",
              "            <td style=\"padding: 0 0.5em 0 0.5em; text-align: left; border: none;\">\n",
              "                TIME\n",
              "            </td>\n",
              "        </tr>\n",
              "    \n",
              "    \n",
              "    </tbody>\n",
              "</table>\n",
              "    \n",
              "\n",
              "    \n",
              "\n",
              "\n",
              "    \n",
              "\n",
              "    \n",
              "\n",
              "    \n",
              "\n",
              "    \n",
              "\n",
              "    \n",
              "\n",
              "    \n",
              "\n",
              "\n",
              "\n"
            ],
            "text/plain": [
              "<IPython.core.display.HTML object>"
            ]
          },
          "metadata": {
            "tags": []
          },
          "execution_count": 78
        }
      ]
    },
    {
      "cell_type": "markdown",
      "metadata": {
        "id": "U5-ahM4PyRgT",
        "colab_type": "text"
      },
      "source": [
        "## Feature selection"
      ]
    },
    {
      "cell_type": "code",
      "metadata": {
        "id": "KRGt5fTGyVCs",
        "colab_type": "code",
        "colab": {}
      },
      "source": [
        "# In this case just an elaborate way to drop 'TIME'.\n",
        "\n",
        "minimum_importance = 0\n",
        "mask = permuter.feature_importances_ > minimum_importance\n",
        "features = X_train.columns[mask]\n",
        "X_train = X_train[features]"
      ],
      "execution_count": 0,
      "outputs": []
    },
    {
      "cell_type": "code",
      "metadata": {
        "id": "1sTTvB4PyY7k",
        "colab_type": "code",
        "outputId": "97c8ed9c-8598-4c35-c6c7-d8bcb81fa38a",
        "colab": {
          "base_uri": "https://localhost:8080/",
          "height": 34
        }
      },
      "source": [
        "X_val = X_val[features]\n",
        "\n",
        "pipeline = make_pipeline(\n",
        "    ce.OrdinalEncoder(), \n",
        "    SimpleImputer(strategy='median'), \n",
        "    RandomForestClassifier(n_estimators=100, random_state=42, n_jobs=-1)\n",
        ")\n",
        "\n",
        "# Fit on train, score on val\n",
        "pipeline.fit(X_train, y_train)\n",
        "print('Validation Accuracy', pipeline.score(X_val, y_val))"
      ],
      "execution_count": 0,
      "outputs": [
        {
          "output_type": "stream",
          "text": [
            "Validation Accuracy 0.6374531835205992\n"
          ],
          "name": "stdout"
        }
      ]
    },
    {
      "cell_type": "code",
      "metadata": {
        "id": "nnzzYyXSyuxn",
        "colab_type": "code",
        "outputId": "0ee90c44-bd91-4147-9f5e-dcbc2058602f",
        "colab": {
          "base_uri": "https://localhost:8080/",
          "height": 50
        }
      },
      "source": [
        "permuter.feature_importances_ - permuter.feature_importances_std_ > 0"
      ],
      "execution_count": 0,
      "outputs": [
        {
          "output_type": "execute_result",
          "data": {
            "text/plain": [
              "array([False,  True,  True,  True,  True,  True,  True,  True,  True,\n",
              "        True,  True,  True])"
            ]
          },
          "metadata": {
            "tags": []
          },
          "execution_count": 81
        }
      ]
    },
    {
      "cell_type": "markdown",
      "metadata": {
        "id": "eA2tT5jCwbKo",
        "colab_type": "text"
      },
      "source": [
        "## Gradient Boosting"
      ]
    },
    {
      "cell_type": "code",
      "metadata": {
        "id": "M53ZRadiweWO",
        "colab_type": "code",
        "outputId": "588f23d5-75a0-42ee-a1f4-ebcfcb611586",
        "colab": {
          "base_uri": "https://localhost:8080/",
          "height": 521
        }
      },
      "source": [
        "from xgboost import XGBClassifier\n",
        "\n",
        "pipeline = make_pipeline(\n",
        "    ce.OrdinalEncoder(), \n",
        "    XGBClassifier(n_estimators=100, random_state=42, n_jobs=-1)\n",
        ")\n",
        "\n",
        "pipeline.fit(X_train, y_train)"
      ],
      "execution_count": 0,
      "outputs": [
        {
          "output_type": "execute_result",
          "data": {
            "text/plain": [
              "Pipeline(memory=None,\n",
              "         steps=[('ordinalencoder',\n",
              "                 OrdinalEncoder(cols=['GEO'], drop_invariant=False,\n",
              "                                handle_missing='value', handle_unknown='value',\n",
              "                                mapping=[{'col': 'GEO', 'data_type': dtype('O'),\n",
              "                                          'mapping': AT        1\n",
              "AT1       2\n",
              "AT11      3\n",
              "AT12      4\n",
              "AT13      5\n",
              "       ... \n",
              "UKM8    442\n",
              "UKM9    443\n",
              "UKN     444\n",
              "UKN0    445\n",
              "NaN      -2\n",
              "Length: 446, dtype: int64}],\n",
              "                                return_df=True, verbose=0)),\n",
              "                ('xgbclassifier',\n",
              "                 XGBClassifier(base_score=0.5...oster='gbtree',\n",
              "                               colsample_bylevel=1, colsample_bynode=1,\n",
              "                               colsample_bytree=1, gamma=0, learning_rate=0.1,\n",
              "                               max_delta_step=0, max_depth=3,\n",
              "                               min_child_weight=1, missing=None,\n",
              "                               n_estimators=100, n_jobs=-1, nthread=None,\n",
              "                               objective='multi:softprob', random_state=42,\n",
              "                               reg_alpha=0, reg_lambda=1, scale_pos_weight=1,\n",
              "                               seed=None, silent=None, subsample=1,\n",
              "                               verbosity=1))],\n",
              "         verbose=False)"
            ]
          },
          "metadata": {
            "tags": []
          },
          "execution_count": 82
        }
      ]
    },
    {
      "cell_type": "code",
      "metadata": {
        "id": "RgsUR-Ljwj_D",
        "colab_type": "code",
        "outputId": "c27476f7-2473-4263-c115-63254640a774",
        "colab": {
          "base_uri": "https://localhost:8080/",
          "height": 34
        }
      },
      "source": [
        "from sklearn.metrics import accuracy_score\n",
        "y_pred = pipeline.predict(X_val)\n",
        "print('Validation Accuracy', accuracy_score(y_val, y_pred))"
      ],
      "execution_count": 0,
      "outputs": [
        {
          "output_type": "stream",
          "text": [
            "Validation Accuracy 0.5760299625468165\n"
          ],
          "name": "stdout"
        }
      ]
    },
    {
      "cell_type": "code",
      "metadata": {
        "id": "o5cs7RUqwpug",
        "colab_type": "code",
        "outputId": "8962018f-6250-44f2-dabe-392d98a17ccb",
        "colab": {
          "base_uri": "https://localhost:8080/",
          "height": 1000
        }
      },
      "source": [
        "# fit_transfom on train, transform on val\n",
        "encoder = ce.OrdinalEncoder()\n",
        "X_train_encoded = encoder.fit_transform(X_train)\n",
        "X_val_encoded = encoder.transform(X_val)\n",
        "\n",
        "model = XGBClassifier(\n",
        "    n_estimators=1000,  # <= 1000 trees, depends on early stopping\n",
        "    max_depth=5,       # try deeper trees because of high cardinality categoricals\n",
        "    learning_rate=0.4,  # try higher learning rate\n",
        "    min_child_weight=0.5,  \n",
        "    n_jobs=-1\n",
        ")\n",
        "\n",
        "eval_set = [(X_train_encoded, y_train), \n",
        "            (X_val_encoded, y_val)]\n",
        "\n",
        "model.fit(X_train_encoded, y_train, \n",
        "          eval_set=eval_set,\n",
        "          eval_metric='merror', \n",
        "          early_stopping_rounds=50) # Stop if the score hasn't improved in 50 rounds"
      ],
      "execution_count": 0,
      "outputs": [
        {
          "output_type": "stream",
          "text": [
            "[0]\tvalidation_0-merror:0.290637\tvalidation_1-merror:0.448689\n",
            "Multiple eval metrics have been passed: 'validation_1-merror' will be used for early stopping.\n",
            "\n",
            "Will train until validation_1-merror hasn't improved in 50 rounds.\n",
            "[1]\tvalidation_0-merror:0.255243\tvalidation_1-merror:0.427715\n",
            "[2]\tvalidation_0-merror:0.244382\tvalidation_1-merror:0.433708\n",
            "[3]\tvalidation_0-merror:0.223034\tvalidation_1-merror:0.433708\n",
            "[4]\tvalidation_0-merror:0.208801\tvalidation_1-merror:0.418727\n",
            "[5]\tvalidation_0-merror:0.210487\tvalidation_1-merror:0.405993\n",
            "[6]\tvalidation_0-merror:0.202622\tvalidation_1-merror:0.4\n",
            "[7]\tvalidation_0-merror:0.189888\tvalidation_1-merror:0.400749\n",
            "[8]\tvalidation_0-merror:0.183521\tvalidation_1-merror:0.411985\n",
            "[9]\tvalidation_0-merror:0.178464\tvalidation_1-merror:0.411985\n",
            "[10]\tvalidation_0-merror:0.167978\tvalidation_1-merror:0.416479\n",
            "[11]\tvalidation_0-merror:0.165918\tvalidation_1-merror:0.414232\n",
            "[12]\tvalidation_0-merror:0.161798\tvalidation_1-merror:0.408989\n",
            "[13]\tvalidation_0-merror:0.156929\tvalidation_1-merror:0.408989\n",
            "[14]\tvalidation_0-merror:0.149625\tvalidation_1-merror:0.407491\n",
            "[15]\tvalidation_0-merror:0.144757\tvalidation_1-merror:0.405993\n",
            "[16]\tvalidation_0-merror:0.141573\tvalidation_1-merror:0.405993\n",
            "[17]\tvalidation_0-merror:0.137453\tvalidation_1-merror:0.403745\n",
            "[18]\tvalidation_0-merror:0.132397\tvalidation_1-merror:0.4\n",
            "[19]\tvalidation_0-merror:0.129401\tvalidation_1-merror:0.400749\n",
            "[20]\tvalidation_0-merror:0.124157\tvalidation_1-merror:0.399251\n",
            "[21]\tvalidation_0-merror:0.120974\tvalidation_1-merror:0.394757\n",
            "[22]\tvalidation_0-merror:0.114419\tvalidation_1-merror:0.394008\n",
            "[23]\tvalidation_0-merror:0.112734\tvalidation_1-merror:0.39176\n",
            "[24]\tvalidation_0-merror:0.111049\tvalidation_1-merror:0.388764\n",
            "[25]\tvalidation_0-merror:0.107865\tvalidation_1-merror:0.391011\n",
            "[26]\tvalidation_0-merror:0.103184\tvalidation_1-merror:0.398502\n",
            "[27]\tvalidation_0-merror:0.100187\tvalidation_1-merror:0.396255\n",
            "[28]\tvalidation_0-merror:0.096816\tvalidation_1-merror:0.392509\n",
            "[29]\tvalidation_0-merror:0.09176\tvalidation_1-merror:0.385768\n",
            "[30]\tvalidation_0-merror:0.08764\tvalidation_1-merror:0.382772\n",
            "[31]\tvalidation_0-merror:0.085019\tvalidation_1-merror:0.382022\n",
            "[32]\tvalidation_0-merror:0.082772\tvalidation_1-merror:0.376779\n",
            "[33]\tvalidation_0-merror:0.079588\tvalidation_1-merror:0.381273\n",
            "[34]\tvalidation_0-merror:0.076217\tvalidation_1-merror:0.378277\n",
            "[35]\tvalidation_0-merror:0.070974\tvalidation_1-merror:0.376779\n",
            "[36]\tvalidation_0-merror:0.067228\tvalidation_1-merror:0.373783\n",
            "[37]\tvalidation_0-merror:0.066479\tvalidation_1-merror:0.379026\n",
            "[38]\tvalidation_0-merror:0.063109\tvalidation_1-merror:0.377528\n",
            "[39]\tvalidation_0-merror:0.06161\tvalidation_1-merror:0.379026\n",
            "[40]\tvalidation_0-merror:0.060112\tvalidation_1-merror:0.37603\n",
            "[41]\tvalidation_0-merror:0.059925\tvalidation_1-merror:0.378277\n",
            "[42]\tvalidation_0-merror:0.056742\tvalidation_1-merror:0.376779\n",
            "[43]\tvalidation_0-merror:0.055243\tvalidation_1-merror:0.373783\n",
            "[44]\tvalidation_0-merror:0.054869\tvalidation_1-merror:0.371536\n",
            "[45]\tvalidation_0-merror:0.051498\tvalidation_1-merror:0.370037\n",
            "[46]\tvalidation_0-merror:0.049438\tvalidation_1-merror:0.368539\n",
            "[47]\tvalidation_0-merror:0.04588\tvalidation_1-merror:0.370787\n",
            "[48]\tvalidation_0-merror:0.045318\tvalidation_1-merror:0.371536\n",
            "[49]\tvalidation_0-merror:0.042135\tvalidation_1-merror:0.368539\n",
            "[50]\tvalidation_0-merror:0.041011\tvalidation_1-merror:0.367041\n",
            "[51]\tvalidation_0-merror:0.040262\tvalidation_1-merror:0.365543\n",
            "[52]\tvalidation_0-merror:0.039888\tvalidation_1-merror:0.365543\n",
            "[53]\tvalidation_0-merror:0.038951\tvalidation_1-merror:0.367041\n",
            "[54]\tvalidation_0-merror:0.037828\tvalidation_1-merror:0.367041\n",
            "[55]\tvalidation_0-merror:0.038015\tvalidation_1-merror:0.367041\n",
            "[56]\tvalidation_0-merror:0.037266\tvalidation_1-merror:0.363296\n",
            "[57]\tvalidation_0-merror:0.035768\tvalidation_1-merror:0.365543\n",
            "[58]\tvalidation_0-merror:0.034831\tvalidation_1-merror:0.362547\n",
            "[59]\tvalidation_0-merror:0.033333\tvalidation_1-merror:0.359551\n",
            "[60]\tvalidation_0-merror:0.031835\tvalidation_1-merror:0.358052\n",
            "[61]\tvalidation_0-merror:0.031086\tvalidation_1-merror:0.356554\n",
            "[62]\tvalidation_0-merror:0.031273\tvalidation_1-merror:0.362547\n",
            "[63]\tvalidation_0-merror:0.027528\tvalidation_1-merror:0.3603\n",
            "[64]\tvalidation_0-merror:0.024906\tvalidation_1-merror:0.359551\n",
            "[65]\tvalidation_0-merror:0.025281\tvalidation_1-merror:0.361798\n",
            "[66]\tvalidation_0-merror:0.024719\tvalidation_1-merror:0.362547\n",
            "[67]\tvalidation_0-merror:0.024532\tvalidation_1-merror:0.363296\n",
            "[68]\tvalidation_0-merror:0.023034\tvalidation_1-merror:0.366292\n",
            "[69]\tvalidation_0-merror:0.022846\tvalidation_1-merror:0.368539\n",
            "[70]\tvalidation_0-merror:0.022097\tvalidation_1-merror:0.367041\n",
            "[71]\tvalidation_0-merror:0.020225\tvalidation_1-merror:0.367041\n",
            "[72]\tvalidation_0-merror:0.01985\tvalidation_1-merror:0.364794\n",
            "[73]\tvalidation_0-merror:0.019476\tvalidation_1-merror:0.362547\n",
            "[74]\tvalidation_0-merror:0.01985\tvalidation_1-merror:0.358052\n",
            "[75]\tvalidation_0-merror:0.019288\tvalidation_1-merror:0.357303\n",
            "[76]\tvalidation_0-merror:0.018727\tvalidation_1-merror:0.355805\n",
            "[77]\tvalidation_0-merror:0.01779\tvalidation_1-merror:0.356554\n",
            "[78]\tvalidation_0-merror:0.016667\tvalidation_1-merror:0.352809\n",
            "[79]\tvalidation_0-merror:0.015543\tvalidation_1-merror:0.354307\n",
            "[80]\tvalidation_0-merror:0.015356\tvalidation_1-merror:0.353558\n",
            "[81]\tvalidation_0-merror:0.015169\tvalidation_1-merror:0.352809\n",
            "[82]\tvalidation_0-merror:0.014981\tvalidation_1-merror:0.355056\n",
            "[83]\tvalidation_0-merror:0.014232\tvalidation_1-merror:0.358052\n",
            "[84]\tvalidation_0-merror:0.014045\tvalidation_1-merror:0.357303\n",
            "[85]\tvalidation_0-merror:0.01367\tvalidation_1-merror:0.354307\n",
            "[86]\tvalidation_0-merror:0.011798\tvalidation_1-merror:0.355805\n",
            "[87]\tvalidation_0-merror:0.010861\tvalidation_1-merror:0.353558\n",
            "[88]\tvalidation_0-merror:0.0103\tvalidation_1-merror:0.352809\n",
            "[89]\tvalidation_0-merror:0.009925\tvalidation_1-merror:0.352809\n",
            "[90]\tvalidation_0-merror:0.008989\tvalidation_1-merror:0.356554\n",
            "[91]\tvalidation_0-merror:0.008989\tvalidation_1-merror:0.355805\n",
            "[92]\tvalidation_0-merror:0.009176\tvalidation_1-merror:0.357303\n",
            "[93]\tvalidation_0-merror:0.009176\tvalidation_1-merror:0.355805\n",
            "[94]\tvalidation_0-merror:0.008614\tvalidation_1-merror:0.355805\n",
            "[95]\tvalidation_0-merror:0.008427\tvalidation_1-merror:0.35206\n",
            "[96]\tvalidation_0-merror:0.007865\tvalidation_1-merror:0.35206\n",
            "[97]\tvalidation_0-merror:0.006554\tvalidation_1-merror:0.352809\n",
            "[98]\tvalidation_0-merror:0.006367\tvalidation_1-merror:0.35206\n",
            "[99]\tvalidation_0-merror:0.005618\tvalidation_1-merror:0.355056\n",
            "[100]\tvalidation_0-merror:0.005993\tvalidation_1-merror:0.355805\n",
            "[101]\tvalidation_0-merror:0.005805\tvalidation_1-merror:0.355805\n",
            "[102]\tvalidation_0-merror:0.005431\tvalidation_1-merror:0.357303\n",
            "[103]\tvalidation_0-merror:0.005056\tvalidation_1-merror:0.355805\n",
            "[104]\tvalidation_0-merror:0.004682\tvalidation_1-merror:0.354307\n",
            "[105]\tvalidation_0-merror:0.004494\tvalidation_1-merror:0.356554\n",
            "[106]\tvalidation_0-merror:0.004869\tvalidation_1-merror:0.354307\n",
            "[107]\tvalidation_0-merror:0.004682\tvalidation_1-merror:0.355056\n",
            "[108]\tvalidation_0-merror:0.004682\tvalidation_1-merror:0.356554\n",
            "[109]\tvalidation_0-merror:0.004494\tvalidation_1-merror:0.355056\n",
            "[110]\tvalidation_0-merror:0.00412\tvalidation_1-merror:0.355056\n",
            "[111]\tvalidation_0-merror:0.00412\tvalidation_1-merror:0.355805\n",
            "[112]\tvalidation_0-merror:0.003558\tvalidation_1-merror:0.355805\n",
            "[113]\tvalidation_0-merror:0.003184\tvalidation_1-merror:0.359551\n",
            "[114]\tvalidation_0-merror:0.003184\tvalidation_1-merror:0.359551\n",
            "[115]\tvalidation_0-merror:0.002996\tvalidation_1-merror:0.361049\n",
            "[116]\tvalidation_0-merror:0.002247\tvalidation_1-merror:0.358052\n",
            "[117]\tvalidation_0-merror:0.001873\tvalidation_1-merror:0.359551\n",
            "[118]\tvalidation_0-merror:0.00206\tvalidation_1-merror:0.358801\n",
            "[119]\tvalidation_0-merror:0.001873\tvalidation_1-merror:0.356554\n",
            "[120]\tvalidation_0-merror:0.001873\tvalidation_1-merror:0.358801\n",
            "[121]\tvalidation_0-merror:0.001873\tvalidation_1-merror:0.358801\n",
            "[122]\tvalidation_0-merror:0.001685\tvalidation_1-merror:0.357303\n",
            "[123]\tvalidation_0-merror:0.001873\tvalidation_1-merror:0.359551\n",
            "[124]\tvalidation_0-merror:0.001685\tvalidation_1-merror:0.358052\n",
            "[125]\tvalidation_0-merror:0.001685\tvalidation_1-merror:0.358052\n",
            "[126]\tvalidation_0-merror:0.001311\tvalidation_1-merror:0.362547\n",
            "[127]\tvalidation_0-merror:0.001311\tvalidation_1-merror:0.361049\n",
            "[128]\tvalidation_0-merror:0.000936\tvalidation_1-merror:0.357303\n",
            "[129]\tvalidation_0-merror:0.000936\tvalidation_1-merror:0.355805\n",
            "[130]\tvalidation_0-merror:0.000936\tvalidation_1-merror:0.356554\n",
            "[131]\tvalidation_0-merror:0.000936\tvalidation_1-merror:0.356554\n",
            "[132]\tvalidation_0-merror:0.000936\tvalidation_1-merror:0.354307\n",
            "[133]\tvalidation_0-merror:0.000749\tvalidation_1-merror:0.356554\n",
            "[134]\tvalidation_0-merror:0.000749\tvalidation_1-merror:0.355805\n",
            "[135]\tvalidation_0-merror:0.000749\tvalidation_1-merror:0.357303\n",
            "[136]\tvalidation_0-merror:0.000749\tvalidation_1-merror:0.355805\n",
            "[137]\tvalidation_0-merror:0.000749\tvalidation_1-merror:0.354307\n",
            "[138]\tvalidation_0-merror:0.000749\tvalidation_1-merror:0.355056\n",
            "[139]\tvalidation_0-merror:0.000562\tvalidation_1-merror:0.354307\n",
            "[140]\tvalidation_0-merror:0.000562\tvalidation_1-merror:0.352809\n",
            "[141]\tvalidation_0-merror:0.000375\tvalidation_1-merror:0.356554\n",
            "[142]\tvalidation_0-merror:0.000187\tvalidation_1-merror:0.358052\n",
            "[143]\tvalidation_0-merror:0.000187\tvalidation_1-merror:0.355056\n",
            "[144]\tvalidation_0-merror:0.000187\tvalidation_1-merror:0.355805\n",
            "[145]\tvalidation_0-merror:0.000187\tvalidation_1-merror:0.355056\n",
            "Stopping. Best iteration:\n",
            "[95]\tvalidation_0-merror:0.008427\tvalidation_1-merror:0.35206\n",
            "\n"
          ],
          "name": "stdout"
        },
        {
          "output_type": "execute_result",
          "data": {
            "text/plain": [
              "XGBClassifier(base_score=0.5, booster='gbtree', colsample_bylevel=1,\n",
              "              colsample_bynode=1, colsample_bytree=1, gamma=0,\n",
              "              learning_rate=0.4, max_delta_step=0, max_depth=5,\n",
              "              min_child_weight=0.5, missing=None, n_estimators=1000, n_jobs=-1,\n",
              "              nthread=None, objective='multi:softprob', random_state=0,\n",
              "              reg_alpha=0, reg_lambda=1, scale_pos_weight=1, seed=None,\n",
              "              silent=None, subsample=1, verbosity=1)"
            ]
          },
          "metadata": {
            "tags": []
          },
          "execution_count": 84
        }
      ]
    },
    {
      "cell_type": "code",
      "metadata": {
        "id": "ESaAI8ZrxswQ",
        "colab_type": "code",
        "outputId": "241f2d95-4f99-4e21-dd79-1aa85367d918",
        "colab": {
          "base_uri": "https://localhost:8080/",
          "height": 280
        }
      },
      "source": [
        "results = model.evals_result()\n",
        "train_error = results['validation_0']['merror']\n",
        "val_error = results['validation_1']['merror']\n",
        "epoch = range(1, len(train_error)+1)\n",
        "plt.plot(epoch, train_error, label='Train')\n",
        "plt.plot(epoch, val_error, label='Validation')\n",
        "plt.ylabel('Classification Error')\n",
        "plt.xlabel('Model Complexity (n_estimators)')\n",
        "# plt.ylim((0.35, 0.4)) # Zoom in\n",
        "plt.legend();"
      ],
      "execution_count": 0,
      "outputs": [
        {
          "output_type": "display_data",
          "data": {
            "image/png": "[encoded data removed]",
            "text/plain": [
              "<Figure size 432x288 with 1 Axes>"
            ]
          },
          "metadata": {
            "tags": []
          }
        }
      ]
    }
  ]
}